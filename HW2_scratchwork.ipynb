{
  "nbformat": 4,
  "nbformat_minor": 0,
  "metadata": {
    "colab": {
      "name": "HW2_scratchwork.ipynb",
      "provenance": [],
      "collapsed_sections": [],
      "include_colab_link": true
    },
    "kernelspec": {
      "name": "python3",
      "display_name": "Python 3"
    }
  },
  "cells": [
    {
      "cell_type": "markdown",
      "metadata": {
        "id": "view-in-github",
        "colab_type": "text"
      },
      "source": [
        "<a href=\"https://colab.research.google.com/github/timtyree/dsc291team4/blob/master/HW2_scratchwork.ipynb\" target=\"_parent\"><img src=\"https://colab.research.google.com/assets/colab-badge.svg\" alt=\"Open In Colab\"/></a>"
      ]
    },
    {
      "cell_type": "markdown",
      "metadata": {
        "id": "PTYW5XVQ_iWf",
        "colab_type": "text"
      },
      "source": [
        "# Dev for hw2 - dsc291 - team 4\n",
        "\n"
      ]
    },
    {
      "cell_type": "markdown",
      "metadata": {
        "id": "GY10iCB6DaDX",
        "colab_type": "text"
      },
      "source": [
        "\n",
        "# How does the performance of random-poke.py related to the size of the caches in the ec2 instance?\n",
        "*^that's Yoav's proposed question #1 for HW2*\n",
        "\n",
        "**Foreword on question choice**\n",
        "<p>I am open to any questions any of you are interested in following up.  None of you have expressed an interest in any particular question, so if this question is okay, let's do it so we have something.  We can always consider doing more later.</p>\n",
        "\n",
        "<p>For now, let's focus on hashing out a clear course of action for HW2 in the following text (This all will be sent to an .md on our github repository (https://github.com/timtyree/dsc291team4/).</p>\n",
        "\n",
        "**Questions I'd like us all to think about:**\n",
        "* What are all of the measurements we should be recording?\n",
        "* How do we control cache-size when we're generating cache-misses with some probability?\n",
        "* Is there a measure of ec2 cache redundancy that I should know about?"
      ]
    },
    {
      "cell_type": "markdown",
      "metadata": {
        "id": "5icmm7Up5a8j",
        "colab_type": "text"
      },
      "source": [
        "## **Goal 1**: measure cache-miss rates that result from reducing random-poke.py at some cache size\n",
        "\n",
        "**(step 1) list all the measurements we should be recording for each cache-miss datum**\n",
        "- latency of the cache miss (used to identify cache miss)\n",
        "- time/date/day-of-week that a cache miss happens\n",
        "- a measure of cache/network size\n",
        "- a measure of cache redundancy (what could this be?)\n",
        "\n",
        "**(step 2) develop ^those measurements and test that they work how we expect**\n",
        "* TODO: set up a local for development.  no need to spend computational resource on development\n",
        "* TODO: make the simplest possible method to produce a cache miss with a nontrivial frequency\n",
        "\n",
        "**(step 3) record the relevant data in an s3 bucket in an easy to reproduce way**\n",
        "* TODO: reduce using a count function to yield the number of machines in the cluster\n",
        "* TODO: start regularly recording the number of machines in the cache along with the current time of day.\n",
        "* QUESTION: Is there a redundancy measure for caches on an ec2 instance that I should know about?\n",
        "\n",
        "## **Goal 2**: Analyze/Visualize data and see what emerges\n",
        "* I've got experience doing this.  To what degree have each of you done this before?\n"
      ]
    },
    {
      "cell_type": "code",
      "metadata": {
        "id": "dhUYQpZA-qdX",
        "colab_type": "code",
        "colab": {}
      },
      "source": [
        ""
      ],
      "execution_count": 0,
      "outputs": []
    }
  ]
}